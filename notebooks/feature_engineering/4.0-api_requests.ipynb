{
 "cells": [
  {
   "attachments": {},
   "cell_type": "markdown",
   "metadata": {},
   "source": [
    "Desarrollo API: Propones disponibilizar los datos de la empresa usando el framework FastAPI. Las consultas que propones son las siguientes:\n",
    "\n",
    "* Película con mayor duración con filtros opcionales de AÑO, PLATAFORMA Y TIPO DE DURACIÓN. (la función debe llamarse get_max_duration(year, platform, duration_type))\n",
    "* Cantidad de películas por plataforma con un puntaje mayor a XX en determinado año (la función debe llamarse get_score_count(platform, scored, year))\n",
    "* Cantidad de películas por plataforma con filtro de PLATAFORMA. (La función debe llamarse get_count_platform(platform))\n",
    "* Actor que más se repite según plataforma y año. (La función debe llamarse get_actor(platform, year))"
   ]
  },
  {
   "cell_type": "code",
   "execution_count": 1,
   "metadata": {},
   "outputs": [],
   "source": [
    "%load_ext autoreload\n",
    "%autoreload 2"
   ]
  },
  {
   "cell_type": "code",
   "execution_count": 2,
   "metadata": {},
   "outputs": [],
   "source": [
    "# Importacion de librerías\n",
    "import pandas as pd\n",
    "import numpy as np\n",
    "# Gestionar las rutas\n",
    "import utils.paths as path"
   ]
  },
  {
   "cell_type": "code",
   "execution_count": 3,
   "metadata": {},
   "outputs": [],
   "source": [
    "dataset_dir = path.make_dir_function(\"dataset\")\n",
    "api_data_dir = dataset_dir(\"api_data.parquet\")"
   ]
  },
  {
   "cell_type": "code",
   "execution_count": 4,
   "metadata": {},
   "outputs": [
    {
     "data": {
      "text/plain": [
       "PosixPath('/mnt/d/Backup/GitHub/pi_mlops/dataset/api_data.parquet')"
      ]
     },
     "execution_count": 4,
     "metadata": {},
     "output_type": "execute_result"
    }
   ],
   "source": [
    "api_data_dir"
   ]
  },
  {
   "cell_type": "code",
   "execution_count": 4,
   "metadata": {},
   "outputs": [],
   "source": [
    "# Carga del dataset del API\n",
    "movies_scores_df = pd.read_parquet(api_data_dir)"
   ]
  },
  {
   "cell_type": "code",
   "execution_count": 5,
   "metadata": {},
   "outputs": [
    {
     "data": {
      "text/html": [
       "<div>\n",
       "<style scoped>\n",
       "    .dataframe tbody tr th:only-of-type {\n",
       "        vertical-align: middle;\n",
       "    }\n",
       "\n",
       "    .dataframe tbody tr th {\n",
       "        vertical-align: top;\n",
       "    }\n",
       "\n",
       "    .dataframe thead th {\n",
       "        text-align: right;\n",
       "    }\n",
       "</style>\n",
       "<table border=\"1\" class=\"dataframe\">\n",
       "  <thead>\n",
       "    <tr style=\"text-align: right;\">\n",
       "      <th></th>\n",
       "      <th>show_id</th>\n",
       "      <th>type</th>\n",
       "      <th>title</th>\n",
       "      <th>director</th>\n",
       "      <th>cast</th>\n",
       "      <th>country</th>\n",
       "      <th>date_added</th>\n",
       "      <th>release_year</th>\n",
       "      <th>rating</th>\n",
       "      <th>duration_int</th>\n",
       "      <th>duration_type</th>\n",
       "      <th>listed_in</th>\n",
       "      <th>description</th>\n",
       "      <th>score</th>\n",
       "    </tr>\n",
       "  </thead>\n",
       "  <tbody>\n",
       "    <tr>\n",
       "      <th>0</th>\n",
       "      <td>as1</td>\n",
       "      <td>movie</td>\n",
       "      <td>the grand seduction</td>\n",
       "      <td>don mckellar</td>\n",
       "      <td>brendan gleeson, taylor kitsch, gordon pinsent</td>\n",
       "      <td>canada</td>\n",
       "      <td>2021-03-30</td>\n",
       "      <td>2014</td>\n",
       "      <td>g</td>\n",
       "      <td>113.0</td>\n",
       "      <td>min</td>\n",
       "      <td>comedy, drama</td>\n",
       "      <td>a small fishing village must procure a local d...</td>\n",
       "      <td>3.5</td>\n",
       "    </tr>\n",
       "    <tr>\n",
       "      <th>1</th>\n",
       "      <td>as2</td>\n",
       "      <td>movie</td>\n",
       "      <td>take care good night</td>\n",
       "      <td>girish joshi</td>\n",
       "      <td>mahesh manjrekar, abhay mahajan, sachin khedekar</td>\n",
       "      <td>india</td>\n",
       "      <td>2021-03-30</td>\n",
       "      <td>2018</td>\n",
       "      <td>13+</td>\n",
       "      <td>110.0</td>\n",
       "      <td>min</td>\n",
       "      <td>drama, international</td>\n",
       "      <td>a metro family decides to fight a cyber crimin...</td>\n",
       "      <td>3.5</td>\n",
       "    </tr>\n",
       "  </tbody>\n",
       "</table>\n",
       "</div>"
      ],
      "text/plain": [
       "  show_id   type                 title      director  \\\n",
       "0     as1  movie   the grand seduction  don mckellar   \n",
       "1     as2  movie  take care good night  girish joshi   \n",
       "\n",
       "                                               cast country  date_added  \\\n",
       "0    brendan gleeson, taylor kitsch, gordon pinsent  canada  2021-03-30   \n",
       "1  mahesh manjrekar, abhay mahajan, sachin khedekar   india  2021-03-30   \n",
       "\n",
       "   release_year rating  duration_int duration_type             listed_in  \\\n",
       "0          2014      g         113.0           min         comedy, drama   \n",
       "1          2018    13+         110.0           min  drama, international   \n",
       "\n",
       "                                         description  score  \n",
       "0  a small fishing village must procure a local d...    3.5  \n",
       "1  a metro family decides to fight a cyber crimin...    3.5  "
      ]
     },
     "execution_count": 5,
     "metadata": {},
     "output_type": "execute_result"
    }
   ],
   "source": [
    "# Veamos que columnas tenemos\n",
    "movies_scores_df.head(2)"
   ]
  },
  {
   "attachments": {},
   "cell_type": "markdown",
   "metadata": {},
   "source": [
    "<p align=\"justify\">Película con mayor duración con filtros opcionales de AÑO, PLATAFORMA Y TIPO DE DURACIÓN. (la función debe llamarse get_max_duration(year, platform, duration_type))</p>\n"
   ]
  },
  {
   "cell_type": "code",
   "execution_count": 6,
   "metadata": {},
   "outputs": [],
   "source": [
    "def get_max_duration(year: int,platform: str, duration_type: str):\n",
    "    mask_year = movies_scores_df[\"release_year\"] == year\n",
    "    mask_platform = movies_scores_df['show_id'].str[0] == platform[0]\n",
    "    mask_duration_type = movies_scores_df['duration_type'] == duration_type\n",
    "    mask_movie_type = movies_scores_df['type'] == 'movie'\n",
    "    result = movies_scores_df[mask_year&mask_platform&mask_duration_type&mask_movie_type].sort_values(by='duration_int', ascending=False).iloc[0]\n",
    "    return {\n",
    "        'title': result.title,\n",
    "        'platform': platform,\n",
    "        'duration_type': duration_type,\n",
    "        'duration_int': int(result.duration_int),\n",
    "        'year': year,\n",
    "    }"
   ]
  },
  {
   "cell_type": "code",
   "execution_count": 7,
   "metadata": {},
   "outputs": [
    {
     "data": {
      "text/plain": [
       "{'title': 'how do you know',\n",
       " 'platform': 'hulu',\n",
       " 'duration_type': 'min',\n",
       " 'duration_int': 121,\n",
       " 'year': 2010}"
      ]
     },
     "execution_count": 7,
     "metadata": {},
     "output_type": "execute_result"
    }
   ],
   "source": [
    "# \n",
    "get_max_duration(2010,'hulu','min')"
   ]
  },
  {
   "attachments": {},
   "cell_type": "markdown",
   "metadata": {},
   "source": [
    "Cantidad de películas por plataforma con un puntaje mayor a XX en determinado año (la función debe llamarse get_score_count(platform, scored, year))"
   ]
  },
  {
   "cell_type": "code",
   "execution_count": 8,
   "metadata": {},
   "outputs": [],
   "source": [
    "\n",
    "def get_score_count(platform: str, score: float, year: int):\n",
    "    mask_movie_type = movies_scores_df['type'] == 'movie'\n",
    "    mask_platform = movies_scores_df['show_id'].str[0] == platform[0]\n",
    "    mask_more_than_score = movies_scores_df['score'] > score\n",
    "    mask_year = movies_scores_df['release_year'] == year\n",
    "    count = movies_scores_df[mask_movie_type&mask_platform&mask_more_than_score&mask_year].shape[0]\n",
    "    return {\n",
    "        'platform': platform, \n",
    "        'score': score,\n",
    "        'year': year,\n",
    "        'count': count\n",
    "    }"
   ]
  },
  {
   "cell_type": "code",
   "execution_count": 9,
   "metadata": {},
   "outputs": [
    {
     "data": {
      "text/plain": [
       "{'platform': 'netflix', 'score': 0.5, 'year': 2010, 'count': 154}"
      ]
     },
     "execution_count": 9,
     "metadata": {},
     "output_type": "execute_result"
    }
   ],
   "source": [
    "# Cantidad de películas que tieien un score mayor a 0.5 que fueron lanzadas en el 2010 en la plataforma netflix\n",
    "get_score_count('netflix',0.5,2010)"
   ]
  },
  {
   "attachments": {},
   "cell_type": "markdown",
   "metadata": {},
   "source": [
    "Cantidad de películas por plataforma con filtro de PLATAFORMA. (La función debe llamarse get_count_platform(platform))"
   ]
  },
  {
   "cell_type": "code",
   "execution_count": 10,
   "metadata": {},
   "outputs": [],
   "source": [
    "def get_count_platform(platform: str):\n",
    "    mask_platform = movies_scores_df['show_id'].str[0] == platform[0]\n",
    "    count = movies_scores_df[mask_platform].shape[0]\n",
    "    return {\n",
    "        \"platform\": platform,\n",
    "        \"count\": count\n",
    "    }"
   ]
  },
  {
   "cell_type": "code",
   "execution_count": 11,
   "metadata": {},
   "outputs": [
    {
     "data": {
      "text/plain": [
       "{'platform': 'hulu', 'count': 3073}"
      ]
     },
     "execution_count": 11,
     "metadata": {},
     "output_type": "execute_result"
    }
   ],
   "source": [
    "# Cantidad de películas en la plataforma amazon\n",
    "get_count_platform('hulu')"
   ]
  },
  {
   "attachments": {},
   "cell_type": "markdown",
   "metadata": {},
   "source": [
    "Actor que más se repite según plataforma y año. (La función debe llamarse get_actor(platform, year))"
   ]
  },
  {
   "cell_type": "code",
   "execution_count": 75,
   "metadata": {},
   "outputs": [],
   "source": [
    "from itertools import chain\n",
    "from collections import Counter\n",
    "\n",
    "def get_actor(platform: str, year: int, none_val=\"\"):\n",
    "    \n",
    "    mask_platform = movies_scores_df['show_id'].str[0] == platform[0]\n",
    "    mask_year = movies_scores_df[\"release_year\"] == year\n",
    "    cast_list = movies_scores_df[mask_platform&mask_year]['cast'].apply(lambda x: str(x).split(', '))\n",
    "    actors = list(chain.from_iterable(cast_list))\n",
    "    actors = list(map(str.strip, actors))\n",
    "    if none_val == \"\":    \n",
    "        actor_counts = Counter(actors)\n",
    "        most_common_actor, count = actor_counts.most_common(1)[0]\n",
    "        return {\n",
    "            \"platform\": platform,\n",
    "            \"most_common_actor\": most_common_actor,\n",
    "            \"count\": count\n",
    "        }\n",
    "    elif none_val == \"not_none\":\n",
    "        actors = list(filter(lambda x: x.lower() != \"none\", actors))\n",
    "        if len(actors) > 0:\n",
    "            actor_counts = Counter(actors)\n",
    "            most_common_actor, count = actor_counts.most_common(1)[0]\n",
    "            return {\n",
    "                \"platform\": platform,\n",
    "                \"most_common_actor\": most_common_actor,\n",
    "                \"count\": count\n",
    "            }\n",
    "        else:\n",
    "            return {\n",
    "                \"platform\": platform,\n",
    "                \"most_common_actor\": \"No existen valores no nulos\",\n",
    "                \"count\": 0\n",
    "            }"
   ]
  },
  {
   "cell_type": "code",
   "execution_count": 76,
   "metadata": {},
   "outputs": [
    {
     "data": {
      "text/plain": [
       "{'platform': 'hulu', 'most_common_actor': 'None', 'count': 412}"
      ]
     },
     "execution_count": 76,
     "metadata": {},
     "output_type": "execute_result"
    }
   ],
   "source": [
    "# Actor más popular (que más se repite) en la plataforma amazon durante el año 2010\n",
    "get_actor(\"hulu\",2019, \"\")"
   ]
  },
  {
   "cell_type": "code",
   "execution_count": 77,
   "metadata": {},
   "outputs": [
    {
     "data": {
      "text/plain": [
       "{'platform': 'hulu',\n",
       " 'most_common_actor': 'No existen valores no nulos',\n",
       " 'count': 0}"
      ]
     },
     "execution_count": 77,
     "metadata": {},
     "output_type": "execute_result"
    }
   ],
   "source": [
    "get_actor(\"hulu\",2019, \"not_none\")"
   ]
  }
 ],
 "metadata": {
  "kernelspec": {
   "display_name": "venv",
   "language": "python",
   "name": "python3"
  },
  "language_info": {
   "codemirror_mode": {
    "name": "ipython",
    "version": 3
   },
   "file_extension": ".py",
   "mimetype": "text/x-python",
   "name": "python",
   "nbconvert_exporter": "python",
   "pygments_lexer": "ipython3",
   "version": "3.7.9"
  },
  "orig_nbformat": 4,
  "vscode": {
   "interpreter": {
    "hash": "b2f4b7f2e86741d0e2392e8225a1745822d18916a96afaca630d13c14301b376"
   }
  }
 },
 "nbformat": 4,
 "nbformat_minor": 2
}
